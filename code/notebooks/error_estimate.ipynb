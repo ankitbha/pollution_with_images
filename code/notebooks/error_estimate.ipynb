{
 "cells": [
  {
   "cell_type": "markdown",
   "metadata": {},
   "source": [
    "## Load Libraries"
   ]
  },
  {
   "cell_type": "code",
   "execution_count": null,
   "metadata": {},
   "outputs": [],
   "source": [
    "%load_ext autoreload\n",
    "%autoreload 2\n",
    "\n",
    "import numpy as np\n",
    "import pandas as pd\n",
    "import sys\n",
    "sys.path.append(\"../\")\n",
    "from geopy import distance\n",
    "import math\n",
    "import os"
   ]
  },
  {
   "cell_type": "markdown",
   "metadata": {},
   "source": [
    "### Locations and Distances for government sensors"
   ]
  },
  {
   "cell_type": "code",
   "execution_count": null,
   "metadata": {},
   "outputs": [],
   "source": [
    "location_df = pd.read_csv(\"/scratch/ab9738/pollution_img/govdata/locations.csv\")\n",
    "\n",
    "location_df = location_df.drop([\"source\"], axis=1)\n",
    "\n",
    "columns = [loc for loc in location_df['id']]\n",
    "\n",
    "distance_df = pd.DataFrame(columns = [columns])\n",
    "\n",
    "for i, locx in enumerate(columns):\n",
    "    distance_df.loc[locx] = 0\n",
    "    for j,locy in enumerate(columns):\n",
    "        # print(type(location_df.loc[i]['lat']))\n",
    "        cord_x = (location_df.loc[i]['lat'], location_df.loc[i]['lon'])\n",
    "        cord_y = (location_df.loc[j]['lat'], location_df.loc[j]['lon'])\n",
    "        distance_df.at[locx,locy] = distance.distance(cord_x, cord_y).kilometers\n",
    "\n",
    "distance_df.replace(0, np.nan, inplace=True)"
   ]
  },
  {
   "cell_type": "markdown",
   "metadata": {},
   "source": [
    "### Finding close-by sensors"
   ]
  },
  {
   "cell_type": "code",
   "execution_count": null,
   "metadata": {},
   "outputs": [],
   "source": [
    "def find_closeby(dist_df, radius):\n",
    "    location_list = list(dist_df.index)\n",
    "    num_locs = len(location_list)\n",
    "    loc_pairs = []\n",
    "    for i, locx in enumerate(location_list):\n",
    "        for j in range(i+1, num_locs):\n",
    "            if(dist_df.loc[locx][location_list[j]]<radius):\n",
    "                loc_pairs.append((locx,location_list[j]))\n",
    "    return loc_pairs"
   ]
  },
  {
   "cell_type": "code",
   "execution_count": null,
   "metadata": {
    "scrolled": true
   },
   "outputs": [],
   "source": [
    "find_closeby(distance_df, 2.0)"
   ]
  },
  {
   "cell_type": "markdown",
   "metadata": {},
   "source": [
    "### Load the government and kaiterra data"
   ]
  },
  {
   "cell_type": "code",
   "execution_count": null,
   "metadata": {},
   "outputs": [],
   "source": [
    "fulldata = pd.read_csv('/scratch/ab9738/pollution_img/govdata/govdata_1H_20180501_20201101.csv',\\\n",
    "                      index_col='monitor_id', usecols=['monitor_id','timestamp_round','pm10'])"
   ]
  },
  {
   "cell_type": "code",
   "execution_count": null,
   "metadata": {},
   "outputs": [],
   "source": [
    "fulldata"
   ]
  },
  {
   "cell_type": "code",
   "execution_count": null,
   "metadata": {},
   "outputs": [],
   "source": [
    "fulldata = fulldata.loc[~(fulldata==0).all(axis=1)]\n",
    "fulldata"
   ]
  },
  {
   "cell_type": "markdown",
   "metadata": {},
   "source": [
    "### Estimate the sensor substitution error"
   ]
  },
  {
   "cell_type": "code",
   "execution_count": null,
   "metadata": {},
   "outputs": [],
   "source": [
    "pairs = find_closeby(distance_df, 2.0)"
   ]
  },
  {
   "cell_type": "code",
   "execution_count": null,
   "metadata": {
    "scrolled": true
   },
   "outputs": [],
   "source": [
    "pairs"
   ]
  },
  {
   "cell_type": "code",
   "execution_count": null,
   "metadata": {},
   "outputs": [],
   "source": [
    "def mean_rel_abs_error(df1, df2):\n",
    "    assert(df1.index == df2.index).all()\n",
    "    if(len(list(df1.index))):\n",
    "        total_rel_err = 0\n",
    "        total_valid_len = 0\n",
    "        for ind in list(df1.index):\n",
    "            rel_err = abs(df2.loc[ind][0]-df1.loc[ind][0])/df1.loc[ind][0]\n",
    "            if(not math.isnan(rel_err)):\n",
    "                total_rel_err += rel_err\n",
    "                total_valid_len += 1\n",
    "        mean_err = total_rel_err/total_valid_len\n",
    "        return mean_err"
   ]
  },
  {
   "cell_type": "code",
   "execution_count": null,
   "metadata": {},
   "outputs": [],
   "source": [
    "def mean_abs_error(df1, df2):\n",
    "    assert(df1.index == df2.index).all()\n",
    "    if(len(list(df1.index))):\n",
    "        total_rel_err = 0\n",
    "        total_valid_len = 0\n",
    "        for ind in list(df1.index):\n",
    "            rel_err = abs(df2.loc[ind][0]-df1.loc[ind][0])\n",
    "            if(not math.isnan(rel_err)):\n",
    "                total_rel_err += rel_err\n",
    "                total_valid_len += 1\n",
    "        mean_err = total_rel_err/total_valid_len\n",
    "        return mean_err"
   ]
  },
  {
   "cell_type": "code",
   "execution_count": null,
   "metadata": {},
   "outputs": [],
   "source": [
    "mean_rel_sensubs_err = []\n",
    "mean_sensubs_err = []"
   ]
  },
  {
   "cell_type": "code",
   "execution_count": null,
   "metadata": {},
   "outputs": [],
   "source": [
    "for indv_pair in pairs:\n",
    "    df1 = fulldata.loc[indv_pair[0]].set_index('timestamp_round')\n",
    "    df2 = fulldata.loc[indv_pair[1]].set_index('timestamp_round')\n",
    "    common_timestamps = list(set(list(df1.index)).intersection(list(df2.index)))\n",
    "    mean_rel_sensubs_err.append(mean_rel_abs_error(df1.loc[common_timestamps], df2.loc[common_timestamps]))\n",
    "    mean_rel_sensubs_err.append(mean_rel_abs_error(df2.loc[common_timestamps], df1.loc[common_timestamps]))"
   ]
  },
  {
   "cell_type": "code",
   "execution_count": null,
   "metadata": {},
   "outputs": [],
   "source": [
    "mean_rel_sensubs_err"
   ]
  },
  {
   "cell_type": "code",
   "execution_count": null,
   "metadata": {},
   "outputs": [],
   "source": [
    "for indv_pair in pairs:\n",
    "    df1 = fulldata.loc[indv_pair[0]].set_index('timestamp_round')\n",
    "    df2 = fulldata.loc[indv_pair[1]].set_index('timestamp_round')\n",
    "    common_timestamps = list(set(list(df1.index)).intersection(list(df2.index)))\n",
    "    mean_sensubs_err.append(mean_abs_error(df1.loc[common_timestamps], df2.loc[common_timestamps]))"
   ]
  },
  {
   "cell_type": "code",
   "execution_count": null,
   "metadata": {},
   "outputs": [],
   "source": [
    "for i in range(len(pairs)):\n",
    "    print(pairs[i], distance_df.loc[pairs[i][0]][pairs[i][1]], mean_sensubs_err[i])"
   ]
  },
  {
   "cell_type": "code",
   "execution_count": null,
   "metadata": {},
   "outputs": [],
   "source": [
    "distance_df.loc[pairs[0][0]][pairs[0][1]]"
   ]
  }
 ],
 "metadata": {
  "kernelspec": {
   "display_name": "Python 3 (ipykernel)",
   "language": "python",
   "name": "python3"
  },
  "language_info": {
   "codemirror_mode": {
    "name": "ipython",
    "version": 3
   },
   "file_extension": ".py",
   "mimetype": "text/x-python",
   "name": "python",
   "nbconvert_exporter": "python",
   "pygments_lexer": "ipython3",
   "version": "3.10.0"
  }
 },
 "nbformat": 4,
 "nbformat_minor": 4
}
